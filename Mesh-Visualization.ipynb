{
 "cells": [
  {
   "cell_type": "code",
   "execution_count": 6,
   "metadata": {},
   "outputs": [],
   "source": [
    "import numpy as np\n",
    "import trimesh\n",
    "from glob import glob\n",
    "import pickle\n",
    "import pandas as pd"
   ]
  },
  {
   "cell_type": "code",
   "execution_count": 4,
   "metadata": {},
   "outputs": [],
   "source": [
    "# Directory for .obj files\n",
    "objs = sorted(glob('pifuhd/res/pifuhd_final/recon/*.obj'))"
   ]
  },
  {
   "cell_type": "code",
   "execution_count": 5,
   "metadata": {},
   "outputs": [
    {
     "name": "stdout",
     "output_type": "stream",
     "text": [
      "010101023146\n",
      "01010517334\n",
      "010106213117\n",
      "02010512337\n",
      "02020614305\n",
      "02020615319\n",
      "02020821322\n"
     ]
    }
   ],
   "source": [
    "# Height Predictions from Deep Network\n",
    "dct = pickle.load(open('test_height_pred.pkl', 'rb'))\n",
    "pred_ws = {}\n",
    "\n",
    "for obj in objs:\n",
    "    \n",
    "    # Load .obj with Trimesh\n",
    "    mesh = trimesh.load(obj)\n",
    "    \n",
    "    key = obj.split('/')[-1].split('_')[1].replace('-F', '')\n",
    "    \n",
    "    if key in dct:\n",
    "        \n",
    "        # Find the volume of bounding sphere of the object\n",
    "        sphere_v = mesh.bounding_sphere.volume\n",
    "        \n",
    "        obj_height = ((sphere_v/((4/3)*np.pi))**(1/3))*2*100 # in m\n",
    "        pred_height = dct[key]\n",
    "        \n",
    "        # Scale the mesh\n",
    "        mesh.apply_scale(pred_height/obj_height)\n",
    "        \n",
    "        # Get the volume of mesh\n",
    "        pred_w = mesh.volume*1000\n",
    "        \n",
    "        pred_ws[key] = pred_w\n",
    "    \n",
    "    else:\n",
    "        print(key)"
   ]
  },
  {
   "cell_type": "code",
   "execution_count": 10,
   "metadata": {},
   "outputs": [],
   "source": [
    "# Real weight values\n",
    "\n",
    "test_set = pd.read_csv('csvs/REGRESSION_TEST.csv', converters={'name': lambda x: str(x)})\n",
    "real_ws = dict(test_set[['name', 'Weight_kg']].values)"
   ]
  },
  {
   "cell_type": "code",
   "execution_count": 11,
   "metadata": {},
   "outputs": [
    {
     "name": "stdout",
     "output_type": "stream",
     "text": [
      "Test set error: 1.79 kg\n"
     ]
    }
   ],
   "source": [
    "# Test set Error\n",
    "\n",
    "err = 0\n",
    "\n",
    "for p in pred_ws:\n",
    "    err += abs(pred_ws[p] - real_ws[p])\n",
    "    \n",
    "print(\"Test set error: {:.2f} kg\".format(err/len(pred_ws)))"
   ]
  },
  {
   "cell_type": "code",
   "execution_count": 12,
   "metadata": {},
   "outputs": [
    {
     "name": "stdout",
     "output_type": "stream",
     "text": [
      "Test set std.: 1.987285\n"
     ]
    }
   ],
   "source": [
    "print('Test set std.: %f' % np.std(list(real_ws.values())))"
   ]
  },
  {
   "cell_type": "code",
   "execution_count": 17,
   "metadata": {},
   "outputs": [
    {
     "data": {
      "text/plain": [
       "0.0001129127831716667"
      ]
     },
     "execution_count": 17,
     "metadata": {},
     "output_type": "execute_result"
    }
   ],
   "source": [
    "# Check mesh volume\n",
    "mesh.volume # in m^3\n",
    "\n",
    "# Scale the mesh\n",
    "mesh.apply_scale()"
   ]
  },
  {
   "cell_type": "code",
   "execution_count": 14,
   "metadata": {},
   "outputs": [],
   "source": [
    "# Visualize the mesh\n",
    "# mesh.show()"
   ]
  }
 ],
 "metadata": {
  "kernelspec": {
   "display_name": "project",
   "language": "python",
   "name": "other-env"
  },
  "language_info": {
   "codemirror_mode": {
    "name": "ipython",
    "version": 3
   },
   "file_extension": ".py",
   "mimetype": "text/x-python",
   "name": "python",
   "nbconvert_exporter": "python",
   "pygments_lexer": "ipython3",
   "version": "3.6.8"
  }
 },
 "nbformat": 4,
 "nbformat_minor": 2
}
